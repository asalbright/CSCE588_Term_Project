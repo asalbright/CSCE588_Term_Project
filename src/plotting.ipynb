{
 "cells": [
  {
   "cell_type": "markdown",
   "metadata": {},
   "source": [
    "## Imports"
   ]
  },
  {
   "cell_type": "code",
   "execution_count": 2,
   "metadata": {},
   "outputs": [],
   "source": [
    "import csv\n",
    "from pathlib import Path\n",
    "import pandas\n",
    "import matplotlib\n",
    "import matplotlib.pyplot as plt\n",
    "import numpy as np\n",
    "from functions import *\n",
    "\n",
    "from pogo_stick_jumping.ODE_Nonlinear import PogoODEnonlinear"
   ]
  },
  {
   "cell_type": "code",
   "execution_count": 3,
   "metadata": {},
   "outputs": [],
   "source": [
    "save_path = Path.cwd() / \"Plots\"\n",
    "if not save_path.exists():\n",
    "    save_path.mkdir()"
   ]
  },
  {
   "cell_type": "markdown",
   "metadata": {},
   "source": [
    "## Plot time series jumps of final designs"
   ]
  },
  {
   "cell_type": "markdown",
   "metadata": {},
   "source": [
    "### Create Empty Lists of Values"
   ]
  },
  {
   "cell_type": "code",
   "execution_count": 4,
   "metadata": {},
   "outputs": [],
   "source": [
    "# Load in the data from saved files\n",
    "files = getFilePaths(Path.cwd())"
   ]
  },
  {
   "cell_type": "code",
   "execution_count": 5,
   "metadata": {},
   "outputs": [],
   "source": [
    "# read in csv files\n",
    "data = []\n",
    "for file in files:\n",
    "    data.append(pandas.read_csv(file))\n",
    "\n",
    "# create a list for the average of each algorithms data\n",
    "spring_ks, zetas = [], []\n",
    "# get the headers of the data\n",
    "headers = data[0].columns.values\n",
    "# iterate through each data set\n",
    "for i in range(len(data)):\n",
    "    # get the average of each column\n",
    "    spring_ks.append(np.mean(data[i][headers[0]]))\n",
    "    zetas.append(np.mean(data[i][headers[1]]))"
   ]
  },
  {
   "cell_type": "code",
   "execution_count": 8,
   "metadata": {},
   "outputs": [
    {
     "data": {
      "image/png": "[encoded data removed]",
      "text/plain": [
       "<Figure size 432x288 with 1 Axes>"
      ]
     },
     "metadata": {
      "needs_background": "light"
     },
     "output_type": "display_data"
    }
   ],
   "source": [
    "m_act = 1.003               # mass of the pogo-stick rod (kg)\n",
    "m_rod = 0.175               # mass of the pogo-stick rod (kg)\n",
    "\n",
    "spring_k = 5760\n",
    "\n",
    "zeta = 0.075\n",
    "\n",
    "f = 11.13         # natural freq. (rad)\n",
    "A_max = 63.2      # max acceleration of actuator (m/s^2)\n",
    "V_max = 2.0       # max velocity of actuator (m/s)\n",
    "Distance = 0.008  # Distance to move actuator in jump command (m)\n",
    "Spring_Limit = -0.008\n",
    "Spacing = 0.75 * (1 / f)  # Space commands by 0.5*period of oscillation\n",
    "\n",
    "x_init = 0.0\n",
    "x_dot_init = 0.0\n",
    "x_act_init = 0.0\n",
    "x_act_dot_init = 0.0\n",
    "\n",
    "heights = []\n",
    "for ii in range(len(spring_ks)):\n",
    "    pogo_stick = PogoODEnonlinear(m_act, m_rod, spring_ks[ii], zetas[ii], A_max, V_max, Distance, Spring_Limit, Spacing)\n",
    "    x0 = [x_init, x_dot_init, x_act_init, x_act_dot_init]\n",
    "    sim_time, timeseries = pogo_stick.run_simulation(x0, duration=1.0)\n",
    "    heights.append(timeseries[0])\n",
    "\n",
    "# Set the plot size - 3x2 aspect ratio is best\n",
    "# fig = plt.figure(figsize=(6.75, 4.5))\n",
    "fig = plt.figure(figsize=(6, 4))\n",
    "\n",
    "ax = plt.gca()\n",
    "\n",
    "# Define the X and Y axis labels\n",
    "plt.xlabel(r'Time (ms)', fontsize=22, weight='bold', labelpad=5)\n",
    "plt.ylabel(r'Rod Height (m)', fontsize=22, weight='bold', labelpad=10)\n",
    "\n",
    "plt.plot(np.arange(len(heights[0][0:600])), heights[0][0:600], linewidth=2, linestyle='-', label=\"PPO\")\n",
    "plt.plot(np.arange(len(heights[1][0:600])), heights[1][0:600], linewidth=2, linestyle='--', label=\"TD3\")\n",
    "\n",
    "# uncomment below and set limits if needed\n",
    "# plt.xlim(0,4)\n",
    "plt.ylim(bottom=None, top=0.20)\n",
    "\n",
    "# Create the legend, then fix the fontsize\n",
    "leg = plt.legend(loc='upper right', ncol = 1, fancybox=True)\n",
    "ltext  = leg.get_texts()\n",
    "plt.setp(ltext,fontsize=18)\n",
    "\n",
    "# Adjust the page layout filling the page using the new tight_layout command\n",
    "plt.tight_layout(pad=0.5)\n",
    "\n",
    "# save the figure as a high-res pdf in the current folder\n",
    "filename = 'timeseries_height.svg'\n",
    "path = save_path / filename\n",
    "plt.savefig(path, transparent=True)\n",
    "filename = 'timeseries_height.png'\n",
    "path = save_path / filename\n",
    "plt.savefig(path, transparent=True)\n",
    "plt.show()"
   ]
  },
  {
   "cell_type": "code",
   "execution_count": null,
   "metadata": {},
   "outputs": [],
   "source": []
  }
 ],
 "metadata": {
  "interpreter": {
   "hash": "9bf3f12e20e8d171ed6b1000dc3ee3f65f6460fe318f7867dfeabe9f95027425"
  },
  "kernelspec": {
   "display_name": "Python 3.8.5 64-bit ('stablebaselines3': conda)",
   "name": "python3"
  },
  "language_info": {
   "codemirror_mode": {
    "name": "ipython",
    "version": 3
   },
   "file_extension": ".py",
   "mimetype": "text/x-python",
   "name": "python",
   "nbconvert_exporter": "python",
   "pygments_lexer": "ipython3",
   "version": "3.8.5"
  },
  "orig_nbformat": 4
 },
 "nbformat": 4,
 "nbformat_minor": 2
}
